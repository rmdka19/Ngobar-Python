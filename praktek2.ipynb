{
  "nbformat": 4,
  "nbformat_minor": 0,
  "metadata": {
    "colab": {
      "provenance": [],
      "authorship_tag": "ABX9TyN7EHpoYAS9IwynjxrQUOGA",
      "include_colab_link": true
    },
    "kernelspec": {
      "name": "python3",
      "display_name": "Python 3"
    },
    "language_info": {
      "name": "python"
    }
  },
  "cells": [
    {
      "cell_type": "markdown",
      "metadata": {
        "id": "view-in-github",
        "colab_type": "text"
      },
      "source": [
        "<a href=\"https://colab.research.google.com/github/rmdka19/Ngobar-Python/blob/main/praktek2.ipynb\" target=\"_parent\"><img src=\"https://colab.research.google.com/assets/colab-badge.svg\" alt=\"Open In Colab\"/></a>"
      ]
    },
    {
      "cell_type": "code",
      "execution_count": null,
      "metadata": {
        "colab": {
          "base_uri": "https://localhost:8080/"
        },
        "id": "A1BDwViWTJb4",
        "outputId": "a851acdd-90da-462e-efd2-b7242fd58dd8"
      },
      "outputs": [
        {
          "output_type": "stream",
          "name": "stdout",
          "text": [
            "Hasil perkalian pertama: 35\n",
            "Hasil perkalian kedua  : 100\n"
          ]
        }
      ],
      "source": [
        "def perkalian (angka1, angka2):\n",
        "      return angka1 * angka2\n",
        "\n",
        "hasil1 = perkalian (5, 7)\n",
        "hasil2 = perkalian (10, 10)\n",
        "\n",
        "print(\"Hasil perkalian pertama:\", hasil1)\n",
        "print(\"Hasil perkalian kedua  :\", hasil2)\n"
      ]
    },
    {
      "cell_type": "code",
      "source": [
        "def dekorator_sederhana(func):\n",
        "    \"\"\"\n",
        "    Dekorator untuk menambahkan log sebelum dan sesudah fungsi dijalankan.\n",
        "    \"\"\"\n",
        "    def wrapper(a):\n",
        "        print(\"Fungsi telah dipanggil\")\n",
        "        result = func(a)\n",
        "        print(\"Fungsi telah selesai dijalankan\")\n",
        "        return result\n",
        "    return wrapper\n",
        "\n",
        "# Fungsi untuk menampilkan nama\n",
        "@dekorator_sederhana\n",
        "def tampilkan_nama(nama):\n",
        "    print(f\"Nama saya adalah: {nama}\")\n",
        "\n",
        "# Pemanggilan fungsi\n",
        "tampilkan_nama(\"Ramdika\")\n"
      ],
      "metadata": {
        "colab": {
          "base_uri": "https://localhost:8080/"
        },
        "id": "vpW--2ZwZYmy",
        "outputId": "4a1f70ae-ee8d-48ca-f27d-cbc223a6c0f5"
      },
      "execution_count": null,
      "outputs": [
        {
          "output_type": "stream",
          "name": "stdout",
          "text": [
            "Fungsi telah dipanggil\n",
            "Nama saya adalah: Ramdika\n",
            "Fungsi telah selesai dijalankan\n"
          ]
        }
      ]
    },
    {
      "cell_type": "code",
      "source": [
        "def func_luas_persegi_panjang (panjang, lebar =10):\n",
        "    return panjang * lebar\n",
        "def func_keliling_persegi_panjang (panjang, lebar =10):\n",
        "    return 2*(panjang + lebar)\n",
        "\n",
        "hasil1 = func_luas_persegi_panjang (5)\n",
        "print(\"Luas persegi panjang adalah :\", hasil1)\n",
        "\n",
        "hasil2 = func_keliling_persegi_panjang (5)\n",
        "print(\"Keliling persegi panjang adalah :\", hasil2)\n",
        "\n",
        "\n",
        "\n",
        "\n",
        "\n",
        "\n",
        "\n",
        "\n",
        "\n"
      ],
      "metadata": {
        "colab": {
          "base_uri": "https://localhost:8080/"
        },
        "id": "cm4FOQisgIYV",
        "outputId": "39fa1910-cc65-4cfe-b32e-56bf3e9299dc"
      },
      "execution_count": null,
      "outputs": [
        {
          "output_type": "stream",
          "name": "stdout",
          "text": [
            "Luas persegi panjang adalah : 50\n",
            "Keliling persegi panjang adalah : 30\n"
          ]
        }
      ]
    }
  ]
}