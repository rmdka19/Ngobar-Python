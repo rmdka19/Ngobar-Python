{
  "nbformat": 4,
  "nbformat_minor": 0,
  "metadata": {
    "colab": {
      "provenance": [],
      "authorship_tag": "ABX9TyMYgqjXfpztsuFltf9T6Rl8",
      "include_colab_link": true
    },
    "kernelspec": {
      "name": "python3",
      "display_name": "Python 3"
    },
    "language_info": {
      "name": "python"
    }
  },
  "cells": [
    {
      "cell_type": "markdown",
      "metadata": {
        "id": "view-in-github",
        "colab_type": "text"
      },
      "source": [
        "<a href=\"https://colab.research.google.com/github/rmdka19/Ngobar-Python/blob/main/praktek1phyton.ipynb\" target=\"_parent\"><img src=\"https://colab.research.google.com/assets/colab-badge.svg\" alt=\"Open In Colab\"/></a>"
      ]
    },
    {
      "cell_type": "code",
      "execution_count": null,
      "metadata": {
        "colab": {
          "base_uri": "https://localhost:8080/"
        },
        "id": "BXVuaqwhiPtU",
        "outputId": "6524f54b-f119-4483-ffc9-fb7289d479f2"
      },
      "outputs": [
        {
          "output_type": "stream",
          "name": "stdout",
          "text": [
            "Masukkan angka pertama: 10\n",
            "Masukkan angka kedua: 5\n",
            "Masukkan operator (+, -, *, /): *\n",
            "Hasil: 10 * 5 = 50\n"
          ]
        }
      ],
      "source": [
        "# Soal Program Kalkulator Sederhana\n",
        "\n",
        "# Meminta input dari pengguna\n",
        "num1 = int(input(\"Masukkan angka pertama: \"))\n",
        "num2 = int(input(\"Masukkan angka kedua: \"))\n",
        "operator = input(\"Masukkan operator (+, -, *, /): \")\n",
        "\n",
        "# Melakukan operasi berdasarkan input pengguna\n",
        "if operator == \"+\":\n",
        "    result = num1 + num2\n",
        "    print(f\"Hasil: {num1} + {num2} = {result}\")\n",
        "elif operator == \"-\":\n",
        "    result = num1 - num2\n",
        "    print(f\"Hasil: {num1} - {num2} = {result}\")\n",
        "elif operator == \"*\":\n",
        "    result = num1 * num2\n",
        "    print(f\"Hasil: {num1} * {num2} = {result}\")\n",
        "elif operator == \"/\":\n",
        "    if num2 != 0:\n",
        "        result = num1 / num2\n",
        "        print(f\"Hasil: {num1} / {num2} = {result}\")\n",
        "    else:\n",
        "        print(\"Kesalahan: Pembagian dengan nol tidak diperbolehkan.\")\n",
        "else:\n",
        "    print(\"Operator tidak valid. Silakan masukkan salah satu dari +, -, *, atau /.\")\n"
      ]
    },
    {
      "cell_type": "code",
      "source": [
        "def deret_fibonacci(batas):\n",
        "  \"\"\"Fungsi untuk menampilkan deret Fibonacci hingga batas tertentu.\n",
        "\n",
        "  Args:\n",
        "    batas: Batas maksimal nilai dalam deret Fibonacci.\n",
        "  \"\"\"\n",
        "\n",
        "  a, b = 0, 1\n",
        "  print(a)\n",
        "  print(b)\n",
        "\n",
        "  while b < batas:\n",
        "    c = a + b\n",
        "    a = b\n",
        "    b = c\n",
        "    print(c)\n",
        "\n",
        "if  __name__== \"__main__\":\n",
        "  batas = int(input(\"Masukkan batas deret Fibonacci: \"))\n",
        "  deret_fibonacci(batas)"
      ],
      "metadata": {
        "colab": {
          "base_uri": "https://localhost:8080/"
        },
        "id": "W0bTtX8xrK32",
        "outputId": "d561aec9-5b2d-4f40-b2cc-c1d860a80508"
      },
      "execution_count": null,
      "outputs": [
        {
          "output_type": "stream",
          "name": "stdout",
          "text": [
            "Masukkan batas deret Fibonacci: 10\n",
            "0\n",
            "1\n",
            "1\n",
            "2\n",
            "3\n",
            "5\n",
            "8\n",
            "13\n"
          ]
        }
      ]
    },
    {
      "cell_type": "markdown",
      "source": [],
      "metadata": {
        "id": "K09Q5u3F2fEw"
      }
    },
    {
      "cell_type": "code",
      "source": [
        "def cari_nilai_ekstrem():\n",
        "  \"\"\"Fungsi untuk mencari nilai maksimum dan minimum dalam sebuah list.\"\"\"\n",
        "\n",
        "  angka = []\n",
        "  while True:\n",
        "    try:\n",
        "      bilangan = (input(\"Masukkan angka (ketik 'stop' untuk berhenti): \"))\n",
        "      if bilangan.lower() == 'stop':\n",
        "        break\n",
        "      bilangan = int(bilangan)\n",
        "      angka.append(bilangan)\n",
        "    except ValueError:\n",
        "        print(\"Input tidak valid. Harap masukkan angka atau 'stop'.\")\n",
        "\n",
        "  if angka:\n",
        "    nilai_maks = max(angka)\n",
        "    nilai_min = min(angka)\n",
        "    print(\"Nilai maksimum:\", nilai_maks)\n",
        "    print(\"Nilai minimum:\", nilai_min)\n",
        "  else:\n",
        "    print(\"List kosong. Tidak ada nilai untuk dicari.\")\n",
        "\n",
        "if __name__ == \"__main__\":\n",
        "  cari_nilai_ekstrem()"
      ],
      "metadata": {
        "colab": {
          "base_uri": "https://localhost:8080/"
        },
        "id": "bKDTCNzB2Lz5",
        "outputId": "77138eab-e490-4503-daf5-440ddee1513b"
      },
      "execution_count": null,
      "outputs": [
        {
          "output_type": "stream",
          "name": "stdout",
          "text": [
            "Masukkan angka (ketik 'stop' untuk berhenti): 12\n",
            "Masukkan angka (ketik 'stop' untuk berhenti): 31\n",
            "Masukkan angka (ketik 'stop' untuk berhenti): 41\n",
            "Masukkan angka (ketik 'stop' untuk berhenti): 78\n",
            "Masukkan angka (ketik 'stop' untuk berhenti): stop\n",
            "Nilai maksimum: 78\n",
            "Nilai minimum: 12\n"
          ]
        }
      ]
    }
  ]
}