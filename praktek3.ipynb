{
  "nbformat": 4,
  "nbformat_minor": 0,
  "metadata": {
    "colab": {
      "provenance": [],
      "authorship_tag": "ABX9TyPr5CoV1Ja+IYctkbTJ+EsL",
      "include_colab_link": true
    },
    "kernelspec": {
      "name": "python3",
      "display_name": "Python 3"
    },
    "language_info": {
      "name": "python"
    }
  },
  "cells": [
    {
      "cell_type": "markdown",
      "metadata": {
        "id": "view-in-github",
        "colab_type": "text"
      },
      "source": [
        "<a href=\"https://colab.research.google.com/github/rmdka19/Ngobar-Python/blob/main/praktek3.ipynb\" target=\"_parent\"><img src=\"https://colab.research.google.com/assets/colab-badge.svg\" alt=\"Open In Colab\"/></a>"
      ]
    },
    {
      "cell_type": "code",
      "execution_count": null,
      "metadata": {
        "colab": {
          "base_uri": "https://localhost:8080/"
        },
        "id": "jasV4mNeVUOC",
        "outputId": "5dafab36-1242-4f80-9563-ed1e14d2e635"
      },
      "outputs": [
        {
          "output_type": "stream",
          "name": "stdout",
          "text": [
            "Hari I\n",
            "gobar\n",
            "Ketiga\n",
            "Hari Ini Adalah Hari Ketiga Saya Mengikuti Ngobar\n"
          ]
        }
      ],
      "source": [
        "sliceing_string = \"Hari Ini Adalah Hari Ketiga Saya Mengikuti Ngobar\"\n",
        "\n",
        "# sliceing string\n",
        "print(sliceing_string[:6])\n",
        "print(sliceing_string[-5:])\n",
        "print(sliceing_string[21:27])\n",
        "print(sliceing_string)"
      ]
    },
    {
      "cell_type": "code",
      "source": [
        "string1 = \"Halo\"\n",
        "string2 = \"Dunia\"\n",
        "string3 = \"Python\"\n",
        "\n",
        "# Menggabungkan dengan operator +\n",
        "gabungan_plus = string1 + \" \" + string2 + \" \" + string3\n",
        "print(\"Menggunakan operator +:\", gabungan_plus)\n",
        "\n",
        "# Menggabungkan dengan f-string\n",
        "gabungan_fstring = f\"{string1} {string2} {string3}\"\n",
        "print(\"Menggunakan f-string:\", gabungan_fstring)\n",
        "\n",
        "# Menggabungkan dengan method .join()\n",
        "gabungan_join = \" \".join([string1, string2, string3])\n",
        "print(\"Menggunakan method .join():\", gabungan_join)"
      ],
      "metadata": {
        "colab": {
          "base_uri": "https://localhost:8080/"
        },
        "id": "7yUpqvLDZrCP",
        "outputId": "5b06933b-ed95-413a-97b6-8ee84400bafd"
      },
      "execution_count": null,
      "outputs": [
        {
          "output_type": "stream",
          "name": "stdout",
          "text": [
            "Menggunakan operator +: Halo Dunia Python\n",
            "Menggunakan f-string: Halo Dunia Python\n",
            "Menggunakan method .join(): Halo Dunia Python\n"
          ]
        }
      ]
    },
    {
      "cell_type": "code",
      "source": [
        "text_soal = \"aku adalah seorang kapten dari sebuah tim sepak bola liga 3 liga belgia\"\n",
        "\n",
        "# Menghitung jumlah karakter\n",
        "jumlah_karakter = len(text_soal)\n",
        "print(\"Jumlah karakter:\", jumlah_karakter)\n",
        "\n",
        "# Menghitung jumlah kata\n",
        "kata_kata = text_soal.split()\n",
        "jumlah_kata = len(kata_kata)\n",
        "print(\"Jumlah kata:\", jumlah_kata)"
      ],
      "metadata": {
        "colab": {
          "base_uri": "https://localhost:8080/"
        },
        "id": "6UbC8bmgaBk9",
        "outputId": "d4c6c9a1-069a-414a-af50-55db58c59004"
      },
      "execution_count": null,
      "outputs": [
        {
          "output_type": "stream",
          "name": "stdout",
          "text": [
            "Jumlah karakter: 71\n",
            "Jumlah kata: 13\n"
          ]
        }
      ]
    },
    {
      "cell_type": "code",
      "source": [
        "import numpy as np\n",
        "\n",
        "array = np.array ([1, 5, 2, 9, 7, 3])\n",
        "\n",
        "mean_value = np.mean(array)\n",
        "min_value = np.min(array)\n",
        "max_value = np.max(array)\n",
        "\n",
        "print(\"Mean:\", mean_value)\n",
        "print(\"Minimum:\", min_value)\n",
        "print(\"Maximum:\", max_value)\n"
      ],
      "metadata": {
        "colab": {
          "base_uri": "https://localhost:8080/"
        },
        "id": "gD58KqTncYRT",
        "outputId": "1f333804-b4ba-4aad-a059-878cf7e9fcae"
      },
      "execution_count": null,
      "outputs": [
        {
          "output_type": "stream",
          "name": "stdout",
          "text": [
            "Mean: 4.5\n",
            "Minimum: 1\n",
            "Maximum: 9\n"
          ]
        }
      ]
    }
  ]
}